{
 "cells": [
  {
   "cell_type": "markdown",
   "metadata": {
    "pycharm": {
     "name": "#%% md\n"
    }
   },
   "source": [
    "# Exercise 3 - Modeling and Evaluation\n",
    "\n",
    "You should have completed exercises 1 and 2 before this exercise. We use the same dataset \"train_FD001.txt\" as in the first two exercises. Additionally, a test set \"test_FD001.txt\" and the test set labels \"RUL_FD001.txt\" are available on moodle.\n",
    "\n",
    "The focus of this task lies on developing a machine learning model to estimate the remaining useful lifetime of aircraft engines. For the application of predictive maintenance, a very important task is to decide whether the aircraft engine is still in a healthy condition or if there are already signs of degradation and the remaining useful lifetime is already close to zero. To prevent failure and apply maintenance measures in time, you want to build a classifier that classifies the aircraft engines in healthy and faulty engines. For safety reasons, engines are defined as faulty, when their remaining useful lifetime is less than 30 cycles.\n",
    "\n",
    "To perform the classification task, a decision tree algorithm shall be used. Decision trees work by splitting the available data into subsets using a series of rule-based criteria. The topic of decision trees will also be covered more extensively in Lecture VIII."
   ]
  },
  {
   "cell_type": "markdown",
   "metadata": {
    "pycharm": {
     "name": "#%% md\n"
    },
    "tags": []
   },
   "source": [
    "## Datasets\n",
    "In Moodle, you can download the files “train_FD001.txt”, “test_FD001.txt” and “RUL_FD001.txt”. “Train_FD001” contains run-to-failure curves from several engines. The dataset contains in total 26 parameters that are shown in Table 1.\n",
    "For each data entry, the corresponding engine number and cycle number is given. All engines were simulated until failure, meaning that the cycle numbers reach from 1 to the end of life of the engines. Parameters 2 - 4 indicate the operating conditions that were input parameters for the simulation. The remaining parameters 5 - 25 are the simulated sensor data and therefore the output of the simulation.\n",
    "\n",
    "“Test_FD001” contains measurements of 100 engines. The parameters (operating conditions and sensor data) are the same as in the “train_FD001” file. However, the test set does not contain run-to-failure curves. The given cycles are only a section of the total operating time of the engines and do not end with a RUL of 0. Therefore, the “RUL_FD001” file provides the RUL at the last given cycle for each of the engines in the test set."
   ]
  },
  {
   "cell_type": "markdown",
   "metadata": {
    "pycharm": {
     "name": "#%% md\n"
    }
   },
   "source": [
    "First, we load basic libraries."
   ]
  },
  {
   "cell_type": "code",
   "execution_count": 26,
   "metadata": {
    "collapsed": false,
    "jupyter": {
     "outputs_hidden": false
    },
    "pycharm": {
     "name": "#%%\n"
    }
   },
   "outputs": [],
   "source": [
    "import pandas as pd\n",
    "import matplotlib.pyplot as plt\n",
    "import seaborn as sns"
   ]
  },
  {
   "cell_type": "markdown",
   "metadata": {
    "jp-MarkdownHeadingCollapsed": true,
    "pycharm": {
     "name": "#%% md\n"
    },
    "tags": []
   },
   "source": [
    "### 1. Load the training data, rename columns if you wish to. Calculate the remaining useful lifetime (RUL) of the aircraft engines and append it to the dataframe. (Repetition from the first exercises)"
   ]
  },
  {
   "cell_type": "code",
   "execution_count": 29,
   "metadata": {
    "collapsed": false,
    "jupyter": {
     "outputs_hidden": false
    },
    "pycharm": {
     "name": "#%%\n"
    }
   },
   "outputs": [
    {
     "name": "stdout",
     "output_type": "stream",
     "text": [
      "<class 'pandas.core.frame.DataFrame'>\n",
      "RangeIndex: 20631 entries, 0 to 20630\n",
      "Data columns (total 26 columns):\n",
      " #   Column      Non-Null Count  Dtype  \n",
      "---  ------      --------------  -----  \n",
      " 0   Engine      20631 non-null  int64  \n",
      " 1   Cycle       20631 non-null  int64  \n",
      " 2   Altitude    20631 non-null  float64\n",
      " 3   MachNumber  20631 non-null  float64\n",
      " 4   TRA         20631 non-null  float64\n",
      " 5   T2          20631 non-null  float64\n",
      " 6   T24         20631 non-null  float64\n",
      " 7   T30         20631 non-null  float64\n",
      " 8   T50         20631 non-null  float64\n",
      " 9   P2          20631 non-null  float64\n",
      " 10  P15         20631 non-null  float64\n",
      " 11  P30         20631 non-null  float64\n",
      " 12  Nf          20631 non-null  float64\n",
      " 13  Nc          20631 non-null  float64\n",
      " 14  epr         20631 non-null  float64\n",
      " 15  Ps30        20631 non-null  float64\n",
      " 16  phi         20631 non-null  float64\n",
      " 17  NRf         20631 non-null  float64\n",
      " 18  NRc         20631 non-null  float64\n",
      " 19  BPR         20631 non-null  float64\n",
      " 20  farB        20631 non-null  float64\n",
      " 21  htBleed     20631 non-null  int64  \n",
      " 22  Nf_dmd      20631 non-null  int64  \n",
      " 23  PCNfR_dmd   20631 non-null  float64\n",
      " 24  W31         20631 non-null  float64\n",
      " 25  W32         20631 non-null  float64\n",
      "dtypes: float64(22), int64(4)\n",
      "memory usage: 4.1 MB\n"
     ]
    }
   ],
   "source": [
    "df_train = pd.read_csv(\"train_FD001.txt\", sep=\" \", header=None)\n",
    "df_train = df_train.drop(columns=[26,27])\n",
    "data_header = {0: 'Engine', 1: 'Cycle', 2: 'Altitude', 3: 'MachNumber', 4: 'TRA', 5: 'T2', 6: 'T24', 7: 'T30', 8: 'T50', 9: 'P2', 10: 'P15', 11: 'P30', 12: 'Nf', 13: 'Nc', 14: 'epr', 15: 'Ps30', 16: 'phi', 17: 'NRf',\n",
    "               18: 'NRc', 19: 'BPR', 20: 'farB', 21: 'htBleed', 22: 'Nf_dmd', 23: 'PCNfR_dmd', 24: 'W31', 25: 'W32'}\n",
    "df_train = df_train.rename(columns=data_header)\n",
    "\n",
    "df_train.info()"
   ]
  },
  {
   "cell_type": "markdown",
   "metadata": {},
   "source": [
    "Just to remember the meaning of the data:\n",
    "\n",
    "| Parameter | Name       | Description                      | Units    |\n",
    "|-----------|------------|----------------------------------|----------|\n",
    "| 0     \t   | Engine     | \tEngine number                   | \t-       |\n",
    "| 1\t        | Cycle\t     | Cycle number                     | \t-       |\n",
    "| 2\t        | Altitude   | \tAltitude                        | \t1000 ft |\n",
    "| 3\t        | MachNumber | \tMach Number                     | \t-       |\n",
    "| 4\t        | TRA        | \tThrust Resolver Angle           | \t-       |\n",
    "| 5\t        | T2         | \tTotal temperature at fan inlet  | \t°R      |\n",
    "| 6\t        | T24        | \tTotal temperature at LPC outlet | \t°R      |\n",
    "| 7\t        | T30        | \tTotal temperature at HPC outlet | \t°R      |\n",
    "| 8\t        | T50        | \tTotal temperature at LPT outlet | \t°R      |\n",
    "| 9\t        | P2         | \tPressure at fan inlet           | \tpsia    |\n",
    "| 10\t       | P15        | \tTotal pressure in bypass-duct   | \tpsia    |\n",
    "| 11\t       | P30        | \tTotal pressure at HPC outlet    | \tpsia    |\n",
    "| 12\t       | Nf         | \tPhysical fan speed              | \trpm     |\n",
    "| 13\t       | Nc         | \tPhysical core speed             | \trpm     |\n",
    "| 14\t       | epr        | \tEngine pressure ratio           | \t-       |\n",
    "| 15\t       | Ps30       | \tStatic pressure at HPC outlet   | \tpsia    |\n",
    "| 16\t       | phi        | \tRatio of fuel flow to Ps30      | \tpps/psi |\n",
    "| 17\t       | NRf        | \tCorrected fan speed             | \trpm     |\n",
    "| 18\t       | NRc        | \tCorrected core speed            | \trpm     |\n",
    "| 19\t       | BPR        | \tBypass ratio                    | \t-       |\n",
    "| 20\t       | farB       | \tBurner fuel-air ratio           | \t-       |\n",
    "| 21\t       | htBleed    | \tBleed enthalpy                  | \t-       |\n",
    "| 22\t       | Nf_dmd     | \tDemanded fan speed              | \trpm     |\n",
    "| 23\t       | PCNfR_dmd  | \tDemanded corrected fan speed    | \trpm     |\n",
    "| 24\t       | W31        | \tHPT coolant bleed               | \tlbm/s   |\n",
    "| 25\t       | W32        | \tLPT coolant bleed               | \tlpm/s   |"
   ]
  },
  {
   "cell_type": "code",
   "execution_count": 19,
   "metadata": {},
   "outputs": [],
   "source": [
    "# calculate maximum cycles per engine\n",
    "df_max_cycles = df_train[['Engine', 'Cycle']].groupby(['Engine']).max()\n",
    "df_max_cycles = df_max_cycles.rename(columns={'Cycle': 'Max_Cycles'})\n",
    "\n",
    "# merge the max_cycles value to the dataframe\n",
    "df_train = df_train.merge(df_max_cycles, left_on='Engine', right_index=True)\n",
    "\n",
    "# calculation of remaining useful life\n",
    "df_train['RUL'] = df_train['Max_Cycles'] - df_train['Cycle']"
   ]
  },
  {
   "cell_type": "markdown",
   "metadata": {
    "jp-MarkdownHeadingCollapsed": true,
    "pycharm": {
     "name": "#%% md\n"
    },
    "tags": []
   },
   "source": [
    "### 2. Load and inspect the test data set. The test data set contains measurements of aircraft engines over a certain amount of cycles. However, these measurements are not run-to-failure curves and only an excerpt of the total lifetime of the engines."
   ]
  },
  {
   "cell_type": "code",
   "execution_count": 39,
   "metadata": {
    "collapsed": false,
    "jupyter": {
     "outputs_hidden": false
    },
    "pycharm": {
     "name": "#%%\n"
    }
   },
   "outputs": [
    {
     "data": {
      "text/html": [
       "<div>\n",
       "<style scoped>\n",
       "    .dataframe tbody tr th:only-of-type {\n",
       "        vertical-align: middle;\n",
       "    }\n",
       "\n",
       "    .dataframe tbody tr th {\n",
       "        vertical-align: top;\n",
       "    }\n",
       "\n",
       "    .dataframe thead th {\n",
       "        text-align: right;\n",
       "    }\n",
       "</style>\n",
       "<table border=\"1\" class=\"dataframe\">\n",
       "  <thead>\n",
       "    <tr style=\"text-align: right;\">\n",
       "      <th></th>\n",
       "      <th>Engine</th>\n",
       "      <th>Cycle</th>\n",
       "      <th>Altitude</th>\n",
       "      <th>MachNumber</th>\n",
       "      <th>TRA</th>\n",
       "      <th>T2</th>\n",
       "      <th>T24</th>\n",
       "      <th>T30</th>\n",
       "      <th>T50</th>\n",
       "      <th>P2</th>\n",
       "      <th>...</th>\n",
       "      <th>phi</th>\n",
       "      <th>NRf</th>\n",
       "      <th>NRc</th>\n",
       "      <th>BPR</th>\n",
       "      <th>farB</th>\n",
       "      <th>htBleed</th>\n",
       "      <th>Nf_dmd</th>\n",
       "      <th>PCNfR_dmd</th>\n",
       "      <th>W31</th>\n",
       "      <th>W32</th>\n",
       "    </tr>\n",
       "  </thead>\n",
       "  <tbody>\n",
       "    <tr>\n",
       "      <th>count</th>\n",
       "      <td>13096.000000</td>\n",
       "      <td>13096.000000</td>\n",
       "      <td>13096.000000</td>\n",
       "      <td>13096.000000</td>\n",
       "      <td>13096.0</td>\n",
       "      <td>13096.00</td>\n",
       "      <td>13096.000000</td>\n",
       "      <td>13096.000000</td>\n",
       "      <td>13096.000000</td>\n",
       "      <td>1.309600e+04</td>\n",
       "      <td>...</td>\n",
       "      <td>13096.000000</td>\n",
       "      <td>13096.000000</td>\n",
       "      <td>13096.000000</td>\n",
       "      <td>13096.000000</td>\n",
       "      <td>1.309600e+04</td>\n",
       "      <td>13096.000000</td>\n",
       "      <td>13096.0</td>\n",
       "      <td>13096.0</td>\n",
       "      <td>13096.000000</td>\n",
       "      <td>13096.000000</td>\n",
       "    </tr>\n",
       "    <tr>\n",
       "      <th>mean</th>\n",
       "      <td>51.543907</td>\n",
       "      <td>76.836515</td>\n",
       "      <td>-0.000011</td>\n",
       "      <td>0.000004</td>\n",
       "      <td>100.0</td>\n",
       "      <td>518.67</td>\n",
       "      <td>642.475088</td>\n",
       "      <td>1588.099204</td>\n",
       "      <td>1404.735362</td>\n",
       "      <td>1.462000e+01</td>\n",
       "      <td>...</td>\n",
       "      <td>521.747724</td>\n",
       "      <td>2388.071025</td>\n",
       "      <td>8138.947817</td>\n",
       "      <td>8.425844</td>\n",
       "      <td>3.000000e-02</td>\n",
       "      <td>392.571625</td>\n",
       "      <td>2388.0</td>\n",
       "      <td>100.0</td>\n",
       "      <td>38.892502</td>\n",
       "      <td>23.335743</td>\n",
       "    </tr>\n",
       "    <tr>\n",
       "      <th>std</th>\n",
       "      <td>28.289423</td>\n",
       "      <td>53.057749</td>\n",
       "      <td>0.002203</td>\n",
       "      <td>0.000294</td>\n",
       "      <td>0.0</td>\n",
       "      <td>0.00</td>\n",
       "      <td>0.400899</td>\n",
       "      <td>5.003274</td>\n",
       "      <td>6.688309</td>\n",
       "      <td>1.776425e-15</td>\n",
       "      <td>...</td>\n",
       "      <td>0.559627</td>\n",
       "      <td>0.056934</td>\n",
       "      <td>10.188605</td>\n",
       "      <td>0.029009</td>\n",
       "      <td>1.040874e-17</td>\n",
       "      <td>1.233577</td>\n",
       "      <td>0.0</td>\n",
       "      <td>0.0</td>\n",
       "      <td>0.141681</td>\n",
       "      <td>0.084120</td>\n",
       "    </tr>\n",
       "    <tr>\n",
       "      <th>min</th>\n",
       "      <td>1.000000</td>\n",
       "      <td>1.000000</td>\n",
       "      <td>-0.008200</td>\n",
       "      <td>-0.000600</td>\n",
       "      <td>100.0</td>\n",
       "      <td>518.67</td>\n",
       "      <td>641.130000</td>\n",
       "      <td>1569.040000</td>\n",
       "      <td>1384.390000</td>\n",
       "      <td>1.462000e+01</td>\n",
       "      <td>...</td>\n",
       "      <td>519.380000</td>\n",
       "      <td>2387.890000</td>\n",
       "      <td>8108.500000</td>\n",
       "      <td>8.332800</td>\n",
       "      <td>3.000000e-02</td>\n",
       "      <td>389.000000</td>\n",
       "      <td>2388.0</td>\n",
       "      <td>100.0</td>\n",
       "      <td>38.310000</td>\n",
       "      <td>22.935400</td>\n",
       "    </tr>\n",
       "    <tr>\n",
       "      <th>25%</th>\n",
       "      <td>28.000000</td>\n",
       "      <td>33.000000</td>\n",
       "      <td>-0.001500</td>\n",
       "      <td>-0.000200</td>\n",
       "      <td>100.0</td>\n",
       "      <td>518.67</td>\n",
       "      <td>642.197500</td>\n",
       "      <td>1584.600000</td>\n",
       "      <td>1399.950000</td>\n",
       "      <td>1.462000e+01</td>\n",
       "      <td>...</td>\n",
       "      <td>521.380000</td>\n",
       "      <td>2388.030000</td>\n",
       "      <td>8132.310000</td>\n",
       "      <td>8.405600</td>\n",
       "      <td>3.000000e-02</td>\n",
       "      <td>392.000000</td>\n",
       "      <td>2388.0</td>\n",
       "      <td>100.0</td>\n",
       "      <td>38.800000</td>\n",
       "      <td>23.281600</td>\n",
       "    </tr>\n",
       "    <tr>\n",
       "      <th>50%</th>\n",
       "      <td>52.000000</td>\n",
       "      <td>69.000000</td>\n",
       "      <td>-0.000000</td>\n",
       "      <td>-0.000000</td>\n",
       "      <td>100.0</td>\n",
       "      <td>518.67</td>\n",
       "      <td>642.460000</td>\n",
       "      <td>1587.990000</td>\n",
       "      <td>1404.440000</td>\n",
       "      <td>1.462000e+01</td>\n",
       "      <td>...</td>\n",
       "      <td>521.780000</td>\n",
       "      <td>2388.070000</td>\n",
       "      <td>8138.390000</td>\n",
       "      <td>8.424900</td>\n",
       "      <td>3.000000e-02</td>\n",
       "      <td>393.000000</td>\n",
       "      <td>2388.0</td>\n",
       "      <td>100.0</td>\n",
       "      <td>38.900000</td>\n",
       "      <td>23.339200</td>\n",
       "    </tr>\n",
       "    <tr>\n",
       "      <th>75%</th>\n",
       "      <td>76.000000</td>\n",
       "      <td>113.000000</td>\n",
       "      <td>0.001500</td>\n",
       "      <td>0.000300</td>\n",
       "      <td>100.0</td>\n",
       "      <td>518.67</td>\n",
       "      <td>642.740000</td>\n",
       "      <td>1591.362500</td>\n",
       "      <td>1409.050000</td>\n",
       "      <td>1.462000e+01</td>\n",
       "      <td>...</td>\n",
       "      <td>522.150000</td>\n",
       "      <td>2388.110000</td>\n",
       "      <td>8144.360000</td>\n",
       "      <td>8.444300</td>\n",
       "      <td>3.000000e-02</td>\n",
       "      <td>393.000000</td>\n",
       "      <td>2388.0</td>\n",
       "      <td>100.0</td>\n",
       "      <td>38.990000</td>\n",
       "      <td>23.393600</td>\n",
       "    </tr>\n",
       "    <tr>\n",
       "      <th>max</th>\n",
       "      <td>100.000000</td>\n",
       "      <td>303.000000</td>\n",
       "      <td>0.007800</td>\n",
       "      <td>0.000700</td>\n",
       "      <td>100.0</td>\n",
       "      <td>518.67</td>\n",
       "      <td>644.300000</td>\n",
       "      <td>1607.550000</td>\n",
       "      <td>1433.360000</td>\n",
       "      <td>1.462000e+01</td>\n",
       "      <td>...</td>\n",
       "      <td>523.760000</td>\n",
       "      <td>2388.320000</td>\n",
       "      <td>8220.480000</td>\n",
       "      <td>8.541400</td>\n",
       "      <td>3.000000e-02</td>\n",
       "      <td>397.000000</td>\n",
       "      <td>2388.0</td>\n",
       "      <td>100.0</td>\n",
       "      <td>39.410000</td>\n",
       "      <td>23.641900</td>\n",
       "    </tr>\n",
       "  </tbody>\n",
       "</table>\n",
       "<p>8 rows × 26 columns</p>\n",
       "</div>"
      ],
      "text/plain": [
       "             Engine         Cycle      Altitude    MachNumber      TRA  \\\n",
       "count  13096.000000  13096.000000  13096.000000  13096.000000  13096.0   \n",
       "mean      51.543907     76.836515     -0.000011      0.000004    100.0   \n",
       "std       28.289423     53.057749      0.002203      0.000294      0.0   \n",
       "min        1.000000      1.000000     -0.008200     -0.000600    100.0   \n",
       "25%       28.000000     33.000000     -0.001500     -0.000200    100.0   \n",
       "50%       52.000000     69.000000     -0.000000     -0.000000    100.0   \n",
       "75%       76.000000    113.000000      0.001500      0.000300    100.0   \n",
       "max      100.000000    303.000000      0.007800      0.000700    100.0   \n",
       "\n",
       "             T2           T24           T30           T50            P2  ...  \\\n",
       "count  13096.00  13096.000000  13096.000000  13096.000000  1.309600e+04  ...   \n",
       "mean     518.67    642.475088   1588.099204   1404.735362  1.462000e+01  ...   \n",
       "std        0.00      0.400899      5.003274      6.688309  1.776425e-15  ...   \n",
       "min      518.67    641.130000   1569.040000   1384.390000  1.462000e+01  ...   \n",
       "25%      518.67    642.197500   1584.600000   1399.950000  1.462000e+01  ...   \n",
       "50%      518.67    642.460000   1587.990000   1404.440000  1.462000e+01  ...   \n",
       "75%      518.67    642.740000   1591.362500   1409.050000  1.462000e+01  ...   \n",
       "max      518.67    644.300000   1607.550000   1433.360000  1.462000e+01  ...   \n",
       "\n",
       "                phi           NRf           NRc           BPR          farB  \\\n",
       "count  13096.000000  13096.000000  13096.000000  13096.000000  1.309600e+04   \n",
       "mean     521.747724   2388.071025   8138.947817      8.425844  3.000000e-02   \n",
       "std        0.559627      0.056934     10.188605      0.029009  1.040874e-17   \n",
       "min      519.380000   2387.890000   8108.500000      8.332800  3.000000e-02   \n",
       "25%      521.380000   2388.030000   8132.310000      8.405600  3.000000e-02   \n",
       "50%      521.780000   2388.070000   8138.390000      8.424900  3.000000e-02   \n",
       "75%      522.150000   2388.110000   8144.360000      8.444300  3.000000e-02   \n",
       "max      523.760000   2388.320000   8220.480000      8.541400  3.000000e-02   \n",
       "\n",
       "            htBleed   Nf_dmd  PCNfR_dmd           W31           W32  \n",
       "count  13096.000000  13096.0    13096.0  13096.000000  13096.000000  \n",
       "mean     392.571625   2388.0      100.0     38.892502     23.335743  \n",
       "std        1.233577      0.0        0.0      0.141681      0.084120  \n",
       "min      389.000000   2388.0      100.0     38.310000     22.935400  \n",
       "25%      392.000000   2388.0      100.0     38.800000     23.281600  \n",
       "50%      393.000000   2388.0      100.0     38.900000     23.339200  \n",
       "75%      393.000000   2388.0      100.0     38.990000     23.393600  \n",
       "max      397.000000   2388.0      100.0     39.410000     23.641900  \n",
       "\n",
       "[8 rows x 26 columns]"
      ]
     },
     "execution_count": 39,
     "metadata": {},
     "output_type": "execute_result"
    }
   ],
   "source": [
    "df_test = pd.read_csv(\"test_FD001.txt\", sep=\" \", header=None)\n",
    "df_test = df_test.drop(columns=[26, 27])\n",
    "df_test = df_test.rename(columns=data_header)"
   ]
  },
  {
   "cell_type": "code",
   "execution_count": 36,
   "metadata": {},
   "outputs": [
    {
     "data": {
      "text/plain": [
       "<AxesSubplot: >"
      ]
     },
     "execution_count": 36,
     "metadata": {},
     "output_type": "execute_result"
    },
    {
     "data": {
      "image/png": "[encoded data removed]",
      "text/plain": [
       "<Figure size 1500x1500 with 2 Axes>"
      ]
     },
     "metadata": {},
     "output_type": "display_data"
    }
   ],
   "source": [
    "plt.figure(figsize=[15,15])\n",
    "sns.heatmap(df_train.corr())"
   ]
  },
  {
   "cell_type": "markdown",
   "metadata": {},
   "source": [
    "Why does some data have not had their correlations calculated? Let's take a look at them."
   ]
  },
  {
   "cell_type": "code",
   "execution_count": 41,
   "metadata": {},
   "outputs": [
    {
     "data": {
      "text/html": [
       "<div>\n",
       "<style scoped>\n",
       "    .dataframe tbody tr th:only-of-type {\n",
       "        vertical-align: middle;\n",
       "    }\n",
       "\n",
       "    .dataframe tbody tr th {\n",
       "        vertical-align: top;\n",
       "    }\n",
       "\n",
       "    .dataframe thead th {\n",
       "        text-align: right;\n",
       "    }\n",
       "</style>\n",
       "<table border=\"1\" class=\"dataframe\">\n",
       "  <thead>\n",
       "    <tr style=\"text-align: right;\">\n",
       "      <th></th>\n",
       "      <th>TRA</th>\n",
       "      <th>T2</th>\n",
       "      <th>epr</th>\n",
       "      <th>farB</th>\n",
       "      <th>Nf_dmd</th>\n",
       "      <th>PCNfR_dmd</th>\n",
       "    </tr>\n",
       "  </thead>\n",
       "  <tbody>\n",
       "    <tr>\n",
       "      <th>count</th>\n",
       "      <td>13096.0</td>\n",
       "      <td>13096.00</td>\n",
       "      <td>1.309600e+04</td>\n",
       "      <td>1.309600e+04</td>\n",
       "      <td>13096.0</td>\n",
       "      <td>13096.0</td>\n",
       "    </tr>\n",
       "    <tr>\n",
       "      <th>mean</th>\n",
       "      <td>100.0</td>\n",
       "      <td>518.67</td>\n",
       "      <td>1.300000e+00</td>\n",
       "      <td>3.000000e-02</td>\n",
       "      <td>2388.0</td>\n",
       "      <td>100.0</td>\n",
       "    </tr>\n",
       "    <tr>\n",
       "      <th>std</th>\n",
       "      <td>0.0</td>\n",
       "      <td>0.00</td>\n",
       "      <td>2.220531e-16</td>\n",
       "      <td>1.040874e-17</td>\n",
       "      <td>0.0</td>\n",
       "      <td>0.0</td>\n",
       "    </tr>\n",
       "    <tr>\n",
       "      <th>min</th>\n",
       "      <td>100.0</td>\n",
       "      <td>518.67</td>\n",
       "      <td>1.300000e+00</td>\n",
       "      <td>3.000000e-02</td>\n",
       "      <td>2388.0</td>\n",
       "      <td>100.0</td>\n",
       "    </tr>\n",
       "    <tr>\n",
       "      <th>25%</th>\n",
       "      <td>100.0</td>\n",
       "      <td>518.67</td>\n",
       "      <td>1.300000e+00</td>\n",
       "      <td>3.000000e-02</td>\n",
       "      <td>2388.0</td>\n",
       "      <td>100.0</td>\n",
       "    </tr>\n",
       "    <tr>\n",
       "      <th>50%</th>\n",
       "      <td>100.0</td>\n",
       "      <td>518.67</td>\n",
       "      <td>1.300000e+00</td>\n",
       "      <td>3.000000e-02</td>\n",
       "      <td>2388.0</td>\n",
       "      <td>100.0</td>\n",
       "    </tr>\n",
       "    <tr>\n",
       "      <th>75%</th>\n",
       "      <td>100.0</td>\n",
       "      <td>518.67</td>\n",
       "      <td>1.300000e+00</td>\n",
       "      <td>3.000000e-02</td>\n",
       "      <td>2388.0</td>\n",
       "      <td>100.0</td>\n",
       "    </tr>\n",
       "    <tr>\n",
       "      <th>max</th>\n",
       "      <td>100.0</td>\n",
       "      <td>518.67</td>\n",
       "      <td>1.300000e+00</td>\n",
       "      <td>3.000000e-02</td>\n",
       "      <td>2388.0</td>\n",
       "      <td>100.0</td>\n",
       "    </tr>\n",
       "  </tbody>\n",
       "</table>\n",
       "</div>"
      ],
      "text/plain": [
       "           TRA        T2           epr          farB   Nf_dmd  PCNfR_dmd\n",
       "count  13096.0  13096.00  1.309600e+04  1.309600e+04  13096.0    13096.0\n",
       "mean     100.0    518.67  1.300000e+00  3.000000e-02   2388.0      100.0\n",
       "std        0.0      0.00  2.220531e-16  1.040874e-17      0.0        0.0\n",
       "min      100.0    518.67  1.300000e+00  3.000000e-02   2388.0      100.0\n",
       "25%      100.0    518.67  1.300000e+00  3.000000e-02   2388.0      100.0\n",
       "50%      100.0    518.67  1.300000e+00  3.000000e-02   2388.0      100.0\n",
       "75%      100.0    518.67  1.300000e+00  3.000000e-02   2388.0      100.0\n",
       "max      100.0    518.67  1.300000e+00  3.000000e-02   2388.0      100.0"
      ]
     },
     "execution_count": 41,
     "metadata": {},
     "output_type": "execute_result"
    }
   ],
   "source": [
    "df_test[['TRA', 'T2', 'epr', 'farB', 'Nf_dmd', 'PCNfR_dmd']].describe()"
   ]
  },
  {
   "cell_type": "markdown",
   "metadata": {},
   "source": [
    "Oh, they're constant."
   ]
  },
  {
   "cell_type": "markdown",
   "metadata": {
    "pycharm": {
     "name": "#%% md\n"
    }
   },
   "source": [
    "### 3. Load the \"RUL_FD001.txt\" file. It contains the remaining useful lifetime of each engine in the test set at the end of the provided measurement period. Given this information, calculate the RUL for all provided data points in the test set and append your calculations to the test data."
   ]
  },
  {
   "cell_type": "code",
   "execution_count": 42,
   "metadata": {
    "collapsed": false,
    "jupyter": {
     "outputs_hidden": false
    },
    "pycharm": {
     "name": "#%%\n"
    }
   },
   "outputs": [
    {
     "data": {
      "text/html": [
       "<div>\n",
       "<style scoped>\n",
       "    .dataframe tbody tr th:only-of-type {\n",
       "        vertical-align: middle;\n",
       "    }\n",
       "\n",
       "    .dataframe tbody tr th {\n",
       "        vertical-align: top;\n",
       "    }\n",
       "\n",
       "    .dataframe thead th {\n",
       "        text-align: right;\n",
       "    }\n",
       "</style>\n",
       "<table border=\"1\" class=\"dataframe\">\n",
       "  <thead>\n",
       "    <tr style=\"text-align: right;\">\n",
       "      <th></th>\n",
       "      <th>0</th>\n",
       "      <th>1</th>\n",
       "    </tr>\n",
       "  </thead>\n",
       "  <tbody>\n",
       "    <tr>\n",
       "      <th>0</th>\n",
       "      <td>112</td>\n",
       "      <td>NaN</td>\n",
       "    </tr>\n",
       "    <tr>\n",
       "      <th>1</th>\n",
       "      <td>98</td>\n",
       "      <td>NaN</td>\n",
       "    </tr>\n",
       "    <tr>\n",
       "      <th>2</th>\n",
       "      <td>69</td>\n",
       "      <td>NaN</td>\n",
       "    </tr>\n",
       "    <tr>\n",
       "      <th>3</th>\n",
       "      <td>82</td>\n",
       "      <td>NaN</td>\n",
       "    </tr>\n",
       "    <tr>\n",
       "      <th>4</th>\n",
       "      <td>91</td>\n",
       "      <td>NaN</td>\n",
       "    </tr>\n",
       "  </tbody>\n",
       "</table>\n",
       "</div>"
      ],
      "text/plain": [
       "     0   1\n",
       "0  112 NaN\n",
       "1   98 NaN\n",
       "2   69 NaN\n",
       "3   82 NaN\n",
       "4   91 NaN"
      ]
     },
     "execution_count": 42,
     "metadata": {},
     "output_type": "execute_result"
    }
   ],
   "source": [
    "\n"
   ]
  },
  {
   "cell_type": "markdown",
   "metadata": {
    "pycharm": {
     "name": "#%% md\n"
    }
   },
   "source": [
    "### 4. Create the label for the train and test data sets. An engine shall be classified as faulty (label = 1) if its RUL is below 30 and as healthy (label = 0) if it is above 30."
   ]
  },
  {
   "cell_type": "code",
   "execution_count": 5,
   "metadata": {
    "collapsed": false,
    "jupyter": {
     "outputs_hidden": false
    },
    "pycharm": {
     "name": "#%%\n"
    }
   },
   "outputs": [],
   "source": []
  },
  {
   "cell_type": "markdown",
   "metadata": {
    "pycharm": {
     "name": "#%% md\n"
    }
   },
   "source": [
    "### 5. Construct the final data arrays for the machine learning model by extracting input features and output labels from the three datasets. As input features, you can use the available sensor data or a subset of it by excluding features with no variance (see Exercises 1 and 2). The output label is the label faulty/healthy that you have calculated in Question 4 of this exercise."
   ]
  },
  {
   "cell_type": "code",
   "execution_count": 5,
   "metadata": {
    "collapsed": false,
    "jupyter": {
     "outputs_hidden": false
    },
    "pycharm": {
     "name": "#%%\n"
    }
   },
   "outputs": [],
   "source": []
  },
  {
   "cell_type": "markdown",
   "metadata": {
    "pycharm": {
     "name": "#%% md\n"
    }
   },
   "source": [
    "### 6. Split your training data into a training set and a validation set. Like that you have 3 datasets: a training, a validation and a test set. To do this, you can use the train_test_split function from scikit-learn library."
   ]
  },
  {
   "cell_type": "code",
   "execution_count": 5,
   "metadata": {
    "collapsed": false,
    "jupyter": {
     "outputs_hidden": false
    },
    "pycharm": {
     "name": "#%%\n"
    }
   },
   "outputs": [],
   "source": []
  },
  {
   "cell_type": "markdown",
   "metadata": {
    "pycharm": {
     "name": "#%% md\n"
    }
   },
   "source": [
    "### 7. Train a decision tree classifier on the training data. Then, evaluate the performance of the classifier on the training and validation set. What can you conclude regarding possible overfitting or underfitting?\n",
    "\n",
    "Useful python functions for this are:\n",
    "- DecisionTreeClassifier from scikit-learn (https://scikit-learn.org/stable/modules/generated/sklearn.tree.DecisionTreeClassifier.html)\n",
    "- Confusion_matrix and metrics like accuracy, precision, recall and f1-score from scikit-learn (https://scikit-learn.org/stable/modules/classes.html#module-sklearn.metrics)"
   ]
  },
  {
   "cell_type": "code",
   "execution_count": 5,
   "metadata": {
    "collapsed": false,
    "jupyter": {
     "outputs_hidden": false
    },
    "pycharm": {
     "name": "#%%\n"
    }
   },
   "outputs": [],
   "source": []
  },
  {
   "cell_type": "markdown",
   "metadata": {
    "pycharm": {
     "name": "#%% md\n"
    }
   },
   "source": [
    "### 8. The decision tree has several hyperparameters that affect the complexity of the built tree. One of them is the \"max_depth\" parameter. It defines the maximum depth of the tree, that means the maximum number of nodes (decisions) until the final classification is made. Try different values for this parameter to learn the decision tree. Plot the f1-score of the learned classifiers for training and validation set over the \"max_depth\" parameter. Can you define an optimal value for this parameter?"
   ]
  },
  {
   "cell_type": "code",
   "execution_count": 5,
   "metadata": {
    "collapsed": false,
    "jupyter": {
     "outputs_hidden": false
    },
    "pycharm": {
     "name": "#%%\n"
    }
   },
   "outputs": [],
   "source": []
  },
  {
   "cell_type": "markdown",
   "metadata": {
    "pycharm": {
     "name": "#%% md\n"
    }
   },
   "source": [
    "### 9. Use the optimal hyperparameter value to learn the final classifier. Evaluate your model on the test set."
   ]
  },
  {
   "cell_type": "code",
   "execution_count": 5,
   "metadata": {
    "collapsed": false,
    "jupyter": {
     "outputs_hidden": false
    },
    "pycharm": {
     "name": "#%%\n"
    }
   },
   "outputs": [],
   "source": []
  }
 ],
 "metadata": {
  "kernelspec": {
   "display_name": "Python 3 (ipykernel)",
   "language": "python",
   "name": "python3"
  },
  "language_info": {
   "codemirror_mode": {
    "name": "ipython",
    "version": 3
   },
   "file_extension": ".py",
   "mimetype": "text/x-python",
   "name": "python",
   "nbconvert_exporter": "python",
   "pygments_lexer": "ipython3",
   "version": "3.10.8"
  }
 },
 "nbformat": 4,
 "nbformat_minor": 4
}
